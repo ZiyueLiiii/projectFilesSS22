{
 "cells": [
  {
   "cell_type": "code",
   "execution_count": 1,
   "metadata": {},
   "outputs": [
    {
     "name": "stderr",
     "output_type": "stream",
     "text": [
      "C:\\Users\\czg\\Anaconda3\\envs\\tensorflow\\lib\\site-packages\\numpy\\_distributor_init.py:32: UserWarning: loaded more than 1 DLL from .libs:\n",
      "C:\\Users\\czg\\Anaconda3\\envs\\tensorflow\\lib\\site-packages\\numpy\\.libs\\libopenblas.PYQHXLVVQ7VESDPUVUADXEVJOBGHJPAY.gfortran-win_amd64.dll\n",
      "C:\\Users\\czg\\Anaconda3\\envs\\tensorflow\\lib\\site-packages\\numpy\\.libs\\libopenblas.TXA6YQSD3GCQQC22GEQ54J2UDCXDXHWN.gfortran-win_amd64.dll\n",
      "  stacklevel=1)\n"
     ]
    }
   ],
   "source": [
    "# 导入需要的包\n",
    "import paddle\n",
    "import paddle.fluid as fluid\n",
    "import numpy as np\n",
    "from PIL import Image\n",
    "import sys\n",
    "from multiprocessing import cpu_count\n",
    "import matplotlib.pyplot as plt\n",
    "import os"
   ]
  },
  {
   "cell_type": "code",
   "execution_count": 3,
   "metadata": {},
   "outputs": [
    {
     "name": "stdout",
     "output_type": "stream",
     "text": [
      "dict_keys([b'labels', b'data', b'batch_label', b'filenames'])\n",
      "dict_keys([b'labels', b'data', b'batch_label', b'filenames'])\n"
     ]
    }
   ],
   "source": [
    "def unpickle(file):\n",
    "    import pickle\n",
    "    with open(file, 'rb') as fo:\n",
    "        dict = pickle.load(fo, encoding='bytes')\n",
    "    return dict\n",
    "\n",
    "\n",
    "print(unpickle(\"./data/cifar-10-batches-py/data_batch_1\").keys())\n",
    "print(unpickle(\"./data/cifar-10-batches-py/test_batch\").keys())"
   ]
  },
  {
   "cell_type": "code",
   "execution_count": 4,
   "metadata": {
    "collapsed": true
   },
   "outputs": [],
   "source": [
    "def test_mapper(sample):\n",
    "    img, label = sample\n",
    "    # 将img数组进行进行归一化处理，得到0到1之间的数值\n",
    "    img = img.flatten().astype('float32') / 255.0\n",
    "    return img, label\n",
    "\n",
    "def train_mapper(sample):\n",
    "    img, label = sample\n",
    "    # 将img数组进行进行归一化处理，得到0到1之间的数值\n",
    "    img = img.flatten().astype('float32') / 255.0\n",
    "    return img, label\n",
    "\n",
    "def train_r(buffered_size=1024):\n",
    "    def reader():\n",
    "        xs = []\n",
    "        ys = []\n",
    "        for i in range(1, 6):\n",
    "            train_dict = unpickle(\"./data/cifar-10-batches-py/data_batch_%d\" % (i,))\n",
    "            xs.append(train_dict[b'data'])\n",
    "            ys.append(train_dict[b'labels'])\n",
    "\n",
    "        Xtr = np.concatenate(xs)\n",
    "        Ytr = np.concatenate(ys)\n",
    "\n",
    "        for (x, y) in zip(Xtr, Ytr):\n",
    "            yield x, int(y)\n",
    "\n",
    "    return paddle.reader.xmap_readers(train_mapper, reader, cpu_count(), buffered_size)\n",
    "\n",
    "# 对自定义数据集创建训练集train的reader\n",
    "\n",
    "def test_r(buffered_size=1024):\n",
    "    def reader():\n",
    "        test_dict = unpickle(\"./data/cifar-10-batches-py/test_batch\")\n",
    "        X = test_dict[b'data']\n",
    "        Y = test_dict[b'labels']\n",
    "        for (x, y) in zip(X, Y):\n",
    "            yield x, int(y)\n",
    "    return paddle.reader.xmap_readers(test_mapper, reader, cpu_count(), buffered_size)"
   ]
  },
  {
   "cell_type": "code",
   "execution_count": 5,
   "metadata": {
    "collapsed": true
   },
   "outputs": [],
   "source": [
    "BATCH_SIZE = 128\n",
    "# 用于训练的数据提供器\n",
    "train_reader = train_r()\n",
    "train_reader = paddle.batch(\n",
    "    paddle.reader.shuffle(\n",
    "        reader=train_reader, buf_size=128 * 100),\n",
    "    batch_size=BATCH_SIZE)\n",
    "# 用于测试的数据提供器\n",
    "test_reader = test_r()\n",
    "test_reader = paddle.batch(\n",
    "    paddle.reader.shuffle(\n",
    "        reader=test_reader, buf_size=300),\n",
    "    batch_size=BATCH_SIZE)"
   ]
  },
  {
   "cell_type": "code",
   "execution_count": 6,
   "metadata": {
    "collapsed": true
   },
   "outputs": [],
   "source": [
    "def convolutional_neural_network(img):\n",
    "    # 第一个卷积-池化层\n",
    "    conv1 = fluid.layers.conv2d(input=img,  # 输入图像\n",
    "                                num_filters=20,  # 卷积核大小\n",
    "                                filter_size=5,  # 卷积核数量，它与输出的通道相同\n",
    "                                act=\"relu\")  # 激活函数\n",
    "    pool1 = fluid.layers.pool2d(\n",
    "        input=conv1,  # 输入\n",
    "        pool_size=2,  # 池化核大小\n",
    "        pool_type='max',  # 池化类型\n",
    "        pool_stride=2)  # 池化步长\n",
    "    conv_pool_1 = fluid.layers.batch_norm(pool1)\n",
    "\n",
    "    # 第二个卷积-池化层\n",
    "    conv2 = fluid.layers.conv2d(input=conv_pool_1,\n",
    "                                num_filters=50,\n",
    "                                filter_size=5,\n",
    "                                act=\"relu\")\n",
    "    pool2 = fluid.layers.pool2d(\n",
    "        input=conv2,\n",
    "        pool_size=2,\n",
    "        pool_type='max',\n",
    "        pool_stride=2,\n",
    "        global_pooling=False)\n",
    "    conv_pool_2 = fluid.layers.batch_norm(pool2)\n",
    "    # 第三个卷积-池化层\n",
    "    conv3 = fluid.layers.conv2d(input=conv_pool_2, num_filters=50, filter_size=5, act=\"relu\")\n",
    "    pool3 = fluid.layers.pool2d(\n",
    "        input=conv3,\n",
    "        pool_size=2,\n",
    "        pool_type='max',\n",
    "        pool_stride=2,\n",
    "        global_pooling=False)\n",
    "    # 以softmax为激活函数的全连接输出层，10类数据输出10个数字\n",
    "    prediction = fluid.layers.fc(input=pool3,\n",
    "                                 size=10,\n",
    "                                 act='softmax')\n",
    "    return prediction"
   ]
  },
  {
   "cell_type": "code",
   "execution_count": 7,
   "metadata": {},
   "outputs": [
    {
     "name": "stdout",
     "output_type": "stream",
     "text": [
      "完成\n"
     ]
    }
   ],
   "source": [
    "# 定义输入数据\n",
    "data_shape = [3, 32, 32]\n",
    "images = fluid.layers.data(name='images', shape=data_shape, dtype='float32')\n",
    "label = fluid.layers.data(name='label', shape=[1], dtype='int64')\n",
    "\n",
    "# 获取分类器，用cnn进行分类\n",
    "predict = convolutional_neural_network(images)\n",
    "\n",
    "# 获取损失函数和准确率\n",
    "cost = fluid.layers.cross_entropy(input=predict, label=label)  # 交叉熵\n",
    "avg_cost = fluid.layers.mean(cost)  # 计算cost中所有元素的平均值\n",
    "acc = fluid.layers.accuracy(input=predict, label=label)  # 使用输入和标签计算准确率\n",
    "\n",
    "# 获取测试程序\n",
    "test_program = fluid.default_main_program().clone(for_test=True)\n",
    "# 定义优化方法\n",
    "optimizer = fluid.optimizer.Adam(learning_rate=0.001)\n",
    "optimizer.minimize(avg_cost)\n",
    "print(\"完成\")"
   ]
  },
  {
   "cell_type": "code",
   "execution_count": 8,
   "metadata": {
    "collapsed": true
   },
   "outputs": [],
   "source": [
    "# 定义使用CPU还是GPU，使用CPU时use_cuda = False,使用GPU时use_cuda = True\n",
    "use_cuda = False\n",
    "place = fluid.CUDAPlace(0) if use_cuda else fluid.CPUPlace()\n",
    "\n",
    "exe = fluid.Executor(place)\n",
    "exe.run(fluid.default_startup_program())\n",
    "\n",
    "feeder = fluid.DataFeeder(feed_list=[images, label], place=place)\n",
    "\n",
    "all_train_iter = 0\n",
    "all_train_iters = []\n",
    "all_train_costs = []\n",
    "all_train_accs = []\n",
    "\n",
    "\n",
    "def draw_train_process(title, iters, costs, accs, label_cost, lable_acc):\n",
    "    plt.title(title, fontsize=24)\n",
    "    plt.xlabel(\"iter\", fontsize=20)\n",
    "    plt.ylabel(\"cost/acc\", fontsize=20)\n",
    "    plt.plot(iters, costs, color='red', label=label_cost)\n",
    "    plt.plot(iters, accs, color='green', label=lable_acc)\n",
    "    plt.legend()\n",
    "    plt.grid()\n",
    "    plt.show()"
   ]
  },
  {
   "cell_type": "code",
   "execution_count": 9,
   "metadata": {},
   "outputs": [
    {
     "name": "stdout",
     "output_type": "stream",
     "text": [
      "Pass:0, Batch:0, Cost:2.82002, Accuracy:0.08594\n",
      "Pass:0, Batch:20, Cost:1.83462, Accuracy:0.39062\n",
      "Pass:0, Batch:40, Cost:1.83181, Accuracy:0.39062\n",
      "Pass:0, Batch:60, Cost:1.87479, Accuracy:0.33594\n",
      "Pass:0, Batch:80, Cost:1.59112, Accuracy:0.40625\n",
      "Pass:0, Batch:100, Cost:1.44504, Accuracy:0.52344\n",
      "Pass:0, Batch:120, Cost:1.48817, Accuracy:0.40625\n",
      "Pass:0, Batch:140, Cost:1.47978, Accuracy:0.50000\n",
      "Pass:0, Batch:160, Cost:1.57265, Accuracy:0.42969\n",
      "Pass:0, Batch:180, Cost:1.48635, Accuracy:0.42969\n",
      "Pass:0, Batch:200, Cost:1.58953, Accuracy:0.48438\n",
      "Pass:0, Batch:220, Cost:1.49139, Accuracy:0.46094\n",
      "Pass:0, Batch:240, Cost:1.42805, Accuracy:0.48438\n",
      "Pass:0, Batch:260, Cost:1.43389, Accuracy:0.50781\n",
      "Pass:0, Batch:280, Cost:1.37230, Accuracy:0.46875\n",
      "Pass:0, Batch:300, Cost:1.33001, Accuracy:0.54688\n",
      "Pass:0, Batch:320, Cost:1.16739, Accuracy:0.60156\n",
      "Pass:0, Batch:340, Cost:1.17318, Accuracy:0.60156\n",
      "Pass:0, Batch:360, Cost:1.08149, Accuracy:0.57812\n",
      "Pass:0, Batch:380, Cost:1.34651, Accuracy:0.54688\n",
      "Test:0, Cost:1.20932, ACC:0.57733\n"
     ]
    }
   ],
   "source": [
    "EPOCH_NUM = 1\n",
    "model_save_dir = \"./catdog.inference.model\"\n",
    "\n",
    "for pass_id in range(EPOCH_NUM):\n",
    "    # 开始训练\n",
    "    for batch_id, data in enumerate(train_reader()):  # 遍历train_reader的迭代器，并为数据加上索引batch_id\n",
    "        train_cost, train_acc = exe.run(program=fluid.default_main_program(),  # 运行主程序\n",
    "                                        feed=feeder.feed(data),  # 喂入一个batch的数据\n",
    "                                        fetch_list=[avg_cost, acc])  # fetch均方误差和准确率\n",
    "\n",
    "        all_train_iter = all_train_iter + BATCH_SIZE\n",
    "        all_train_iters.append(all_train_iter)\n",
    "        all_train_costs.append(train_cost[0])\n",
    "        all_train_accs.append(train_acc[0])\n",
    "\n",
    "        # 每100次batch打印一次训练、进行一次测试\n",
    "        if batch_id % 20 == 0:\n",
    "            print('Pass:%d, Batch:%d, Cost:%0.5f, Accuracy:%0.5f' %\n",
    "                  (pass_id, batch_id, train_cost[0], train_acc[0]))\n",
    "\n",
    "    # 开始测试\n",
    "    test_costs = []  # 测试的损失值\n",
    "    test_accs = []  # 测试的准确率\n",
    "    for batch_id, data in enumerate(test_reader()):\n",
    "        test_cost, test_acc = exe.run(program=test_program,  # 执行训练程序\n",
    "                                      feed=feeder.feed(data),  # 喂入数据\n",
    "                                      fetch_list=[avg_cost, acc])  # fetch 误差、准确率\n",
    "        test_costs.append(test_cost[0])  # 记录每个batch的误差\n",
    "        test_accs.append(test_acc[0])  # 记录每个batch的准确率\n",
    "\n",
    "    # 求测试结果的平均值\n",
    "    test_cost = (sum(test_costs) / len(test_costs))  # 计算误差平均值（误差和/误差的个数）\n",
    "    test_acc = (sum(test_accs) / len(test_accs))  # 计算准确率平均值（ 准确率的和/准确率的个数）\n",
    "    print('Test:%d, Cost:%0.5f, ACC:%0.5f' % (pass_id, test_cost, test_acc))"
   ]
  },
  {
   "cell_type": "code",
   "execution_count": 10,
   "metadata": {},
   "outputs": [
    {
     "name": "stdout",
     "output_type": "stream",
     "text": [
      "save models to ./catdog.inference.model\n",
      "训练模型保存完成！\n"
     ]
    },
    {
     "data": {
      "image/png": "[encoded data removed]",
      "text/plain": [
       "<Figure size 432x288 with 1 Axes>"
      ]
     },
     "metadata": {},
     "output_type": "display_data"
    }
   ],
   "source": [
    "# 保存模型\n",
    "# 如果保存路径不存在就创建\n",
    "if not os.path.exists(model_save_dir):\n",
    "    os.makedirs(model_save_dir)\n",
    "print('save models to %s' % (model_save_dir))\n",
    "fluid.io.save_inference_model(model_save_dir,\n",
    "                              ['images'],\n",
    "                              [predict],\n",
    "                              exe)\n",
    "print('训练模型保存完成！')\n",
    "draw_train_process(\"training\", all_train_iters, all_train_costs, all_train_accs, \"trainning cost\", \"trainning acc\")"
   ]
  },
  {
   "cell_type": "code",
   "execution_count": 11,
   "metadata": {
    "collapsed": true
   },
   "outputs": [],
   "source": [
    "infer_exe = fluid.Executor(place)\n",
    "inference_scope = fluid.core.Scope()\n",
    "\n",
    "def load_image(file):\n",
    "    # 打开图片\n",
    "    im = Image.open(file)\n",
    "    # 将图片调整为跟训练数据一样的大小  32*32，设定ANTIALIAS，即抗锯齿.resize是缩放\n",
    "    im = im.resize((32, 32), Image.ANTIALIAS)\n",
    "    # 建立图片矩阵 类型为float32\n",
    "    im = np.array(im).astype(np.float32)\n",
    "    # 矩阵转置\n",
    "    im = im.transpose((2, 0, 1))\n",
    "    # 将像素值从【0-255】转换为【0-1】\n",
    "    im = im / 255.0\n",
    "    # print(im)\n",
    "    im = np.expand_dims(im, axis=0)\n",
    "    # 保持和之前输入image维度一致\n",
    "    print('im_shape的维度：', im.shape)\n",
    "    return im"
   ]
  },
  {
   "cell_type": "code",
   "execution_count": 12,
   "metadata": {},
   "outputs": [
    {
     "data": {
      "image/png": "[encoded data removed]",
      "text/plain": [
       "<Figure size 432x288 with 1 Axes>"
      ]
     },
     "metadata": {},
     "output_type": "display_data"
    },
    {
     "name": "stdout",
     "output_type": "stream",
     "text": [
      "im_shape的维度： (1, 3, 32, 32)\n",
      "results [array([[0.21010092, 0.0153084 , 0.08519617, 0.22988823, 0.01993718,\n",
      "        0.15378426, 0.02756022, 0.18605247, 0.00540622, 0.06676589]],\n",
      "      dtype=float32)]\n",
      "infer results: cat\n"
     ]
    }
   ],
   "source": [
    "with fluid.scope_guard(inference_scope):\n",
    "    # 从指定目录中加载 推理model(inference model)\n",
    "    [inference_program,  # 预测用的program\n",
    "     feed_target_names,  # 是一个str列表，它包含需要在推理 Program 中提供数据的变量的名称。\n",
    "     fetch_targets] = fluid.io.load_inference_model(model_save_dir,  # fetch_targets：是一个 Variable 列表，从中我们可以得到推断结果。\n",
    "                                                    infer_exe)  # infer_exe: 运行 inference model的 executor\n",
    "\n",
    "    infer_path = './data/dog.png'\n",
    "    img = Image.open(infer_path)\n",
    "    plt.imshow(img)\n",
    "    plt.show()\n",
    "\n",
    "    img = load_image(infer_path)\n",
    "\n",
    "    results = infer_exe.run(inference_program,  # 运行预测程序\n",
    "                            feed={feed_target_names[0]: img},  # 喂入要预测的img\n",
    "                            fetch_list=fetch_targets)  # 得到推测结果\n",
    "    print('results', results)\n",
    "    label_list = [\n",
    "        \"airplane\", \"automobile\", \"bird\", \"cat\", \"deer\", \"dog\", \"frog\", \"horse\",\n",
    "        \"ship\", \"truck\"\n",
    "    ]\n",
    "    print(\"infer results: %s\" % label_list[np.argmax(results[0])])"
   ]
  },
  {
   "cell_type": "code",
   "execution_count": null,
   "metadata": {
    "collapsed": true
   },
   "outputs": [],
   "source": []
  }
 ],
 "metadata": {
  "kernelspec": {
   "display_name": "Python [conda env:tensorflow]",
   "language": "python",
   "name": "conda-env-tensorflow-py"
  },
  "language_info": {
   "codemirror_mode": {
    "name": "ipython",
    "version": 3
   },
   "file_extension": ".py",
   "mimetype": "text/x-python",
   "name": "python",
   "nbconvert_exporter": "python",
   "pygments_lexer": "ipython3",
   "version": "3.5.4"
  }
 },
 "nbformat": 4,
 "nbformat_minor": 2
}
